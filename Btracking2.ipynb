{
 "cells": [
  {
   "cell_type": "code",
   "execution_count": 87,
   "metadata": {},
   "outputs": [],
   "source": [
    "from timeit import default_timer as tmr"
   ]
  },
  {
   "cell_type": "code",
   "execution_count": 102,
   "metadata": {},
   "outputs": [],
   "source": [
    "def backtrack(number, index, digits):\n",
    "    if not digits:\n",
    "        return number\n",
    "    for i in range(len(digits)):\n",
    "        digit = digits[i]\n",
    "        digits = digits[:i] + digits[i+1:]\n",
    "        if (number*10+digit)%index == 0:\n",
    "            final = backtrack(number*10+digit, index+1, digits)\n",
    "            if final:\n",
    "                return final\n",
    "        digits = digits[:i] + [digit] + digits[i:]"
   ]
  },
  {
   "cell_type": "code",
   "execution_count": 103,
   "metadata": {},
   "outputs": [
    {
     "name": "stdout",
     "output_type": "stream",
     "text": [
      "time taken 0.08747438100181171\n"
     ]
    }
   ],
   "source": [
    "start = tmr()\n",
    "for i in range(100):\n",
    "    backtrack(0,1, list(range(10)))\n",
    "end = tmr()\n",
    "print(\"time taken\", end-start)"
   ]
  },
  {
   "cell_type": "code",
   "execution_count": 104,
   "metadata": {},
   "outputs": [],
   "source": [
    "def backtrack(number, chosen, digits):\n",
    "    if len(chosen) == len(digits):\n",
    "        return number\n",
    "    for digit in digits:\n",
    "        if digit not in chosen and (number*10+digit)%(len(chosen)+1) == 0:\n",
    "            final = backtrack(number*10+digit, chosen+[digit], digits)\n",
    "            if final:\n",
    "                return final"
   ]
  },
  {
   "cell_type": "code",
   "execution_count": 105,
   "metadata": {},
   "outputs": [
    {
     "name": "stdout",
     "output_type": "stream",
     "text": [
      "time taken 0.04533427400019718\n"
     ]
    }
   ],
   "source": [
    "start = tmr()\n",
    "for i in range(100):\n",
    "    backtrack(0,[], list(range(10)))\n",
    "end = tmr()\n",
    "print(\"time taken\", end-start)"
   ]
  },
  {
   "cell_type": "code",
   "execution_count": null,
   "metadata": {},
   "outputs": [],
   "source": [
    "def permute(list_, s):\n",
    "    if list_ == 1:\n",
    "        return s\n",
    "    return [ y + x\n",
    "             for y in permute(1, s)\n",
    "             for x in permute(list_ - 1, s)\n",
    "             ]\n",
    "\n",
    "print(permute(2, [\"0\", \"1\"]))\n",
    "print(permute(2, [\"a\",\"b\",\"c\"]))"
   ]
  },
  {
   "cell_type": "code",
   "execution_count": 25,
   "metadata": {},
   "outputs": [],
   "source": [
    "def printBinary(n, final, current=''):\n",
    "    if n==0:\n",
    "        final.append(current)\n",
    "    else:\n",
    "        for i in '01':\n",
    "            printBinary(n-1, final, current + i)\n",
    "#         printBinary(n-1, current+'0', final)\n",
    "#         printBinary(n-1, current+'1', final)\n",
    "    return final"
   ]
  },
  {
   "cell_type": "code",
   "execution_count": 26,
   "metadata": {},
   "outputs": [
    {
     "data": {
      "text/plain": [
       "['00', '01', '10', '11']"
      ]
     },
     "execution_count": 26,
     "metadata": {},
     "output_type": "execute_result"
    }
   ],
   "source": [
    "printBinary(1, [])\n",
    "printBinary(2, [])"
   ]
  },
  {
   "cell_type": "code",
   "execution_count": null,
   "metadata": {},
   "outputs": [],
   "source": []
  }
 ],
 "metadata": {
  "kernelspec": {
   "display_name": "Python 3",
   "language": "python",
   "name": "python3"
  },
  "language_info": {
   "codemirror_mode": {
    "name": "ipython",
    "version": 3
   },
   "file_extension": ".py",
   "mimetype": "text/x-python",
   "name": "python",
   "nbconvert_exporter": "python",
   "pygments_lexer": "ipython3",
   "version": "3.7.6"
  }
 },
 "nbformat": 4,
 "nbformat_minor": 4
}

{
 "cells": [
  {
   "cell_type": "code",
   "execution_count": 84,
   "metadata": {},
   "outputs": [],
   "source": [
    "#output = []\n",
    "def recurHelper(array, depth, chosen=[], output=[]):\n",
    "    #print(\"  \"*(2-depth), 'recur({}, {}, {}, {})'.format(array, chosen, depth, output))\n",
    "    if depth == 0:\n",
    "        output.append(chosen)\n",
    "        return\n",
    "    while array:\n",
    "        item = array.pop()\n",
    "        #tempArray = array[:]\n",
    "        recurHelper(array[:], depth-1, chosen[:] + [item], output)"
   ]
  },
  {
   "cell_type": "code",
   "execution_count": 85,
   "metadata": {},
   "outputs": [],
   "source": [
    "def recur(n, k):\n",
    "    recurHelper(list(range(1, n + 1)), k)"
   ]
  },
  {
   "cell_type": "code",
   "execution_count": 86,
   "metadata": {},
   "outputs": [],
   "source": [
    "recur(5, 2)"
   ]
  },
  {
   "cell_type": "code",
   "execution_count": 87,
   "metadata": {},
   "outputs": [
    {
     "name": "stdout",
     "output_type": "stream",
     "text": [
      "[[5, 4], [5, 3], [5, 2], [5, 1], [4, 3], [4, 2], [4, 1], [3, 2], [3, 1], [2, 1]]\n"
     ]
    }
   ],
   "source": [
    "print(output)"
   ]
  },
  {
   "cell_type": "code",
   "execution_count": null,
   "metadata": {},
   "outputs": [],
   "source": []
  }
 ],
 "metadata": {
  "kernelspec": {
   "display_name": "Python 3",
   "language": "python",
   "name": "python3"
  },
  "language_info": {
   "codemirror_mode": {
    "name": "ipython",
    "version": 3
   },
   "file_extension": ".py",
   "mimetype": "text/x-python",
   "name": "python",
   "nbconvert_exporter": "python",
   "pygments_lexer": "ipython3",
   "version": "3.7.6"
  }
 },
 "nbformat": 4,
 "nbformat_minor": 4
}

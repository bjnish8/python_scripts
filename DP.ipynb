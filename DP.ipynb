{
 "cells": [
  {
   "cell_type": "markdown",
   "metadata": {},
   "source": [
    "### Coin Change with coin values"
   ]
  },
  {
   "cell_type": "code",
   "execution_count": 92,
   "metadata": {},
   "outputs": [],
   "source": [
    "'''\n",
    "Bottom Up solution for coin change problem.\n",
    "Here we know the intial number of coins required for the value of 1. And then we incrementally build up to the\n",
    "value that we want. \n",
    "The concept is that for each value, we take a look at values prior to that and compute the neccessary values by\n",
    "instant lookup of the values contained within the arrays.\n",
    "'''\n",
    "def getCoins(cash, coins):\n",
    "    # First lets create an array that holds all the values for the values until the final solution incrementally \n",
    "    arr = [0] * (cash + 1)\n",
    "    list_of_coins = [[]] * (cash + 1)\n",
    "    # The value of 1 can has only one coin\n",
    "    # Let's find the number of coins from 2 onwards until we reach the number we want\n",
    "    current_coins = []\n",
    "    for i in range(1, cash + 1):\n",
    "        # Compare the value of each iteration, and we take the lowest. We need the least number of coins.\n",
    "        current = float('+inf')\n",
    "        for j in coins:\n",
    "            # If the denomination is greater than or equal to the current value, we can use that denomination in our calculation\n",
    "            if j <= i:\n",
    "                current_coins = []\n",
    "                # update the value of current likewise\n",
    "                current_coins.append(j)\n",
    "                current_coins.extend(list_of_coins[i- j])\n",
    "                current = min(current, arr[i - j] + 1)\n",
    "        \n",
    "        # The least number of coins for each iteration is the final solution for that value.\n",
    "        arr[i] = current\n",
    "        list_of_coins[i] = current_coins\n",
    "        \n",
    "    for x, y in enumerate(list_of_coins):\n",
    "        print(x, \": \", y)\n"
   ]
  },
  {
   "cell_type": "code",
   "execution_count": 94,
   "metadata": {
    "scrolled": true
   },
   "outputs": [
    {
     "name": "stdout",
     "output_type": "stream",
     "text": [
      "0 :  []\n",
      "1 :  [1]\n",
      "2 :  [1, 1]\n",
      "3 :  [1, 1, 1]\n",
      "4 :  [1, 1, 1, 1]\n",
      "5 :  [5]\n",
      "6 :  [5, 1]\n",
      "7 :  [5, 1, 1]\n",
      "8 :  [5, 1, 1, 1]\n",
      "9 :  [5, 1, 1, 1, 1]\n",
      "10 :  [10]\n",
      "11 :  [10, 1]\n",
      "12 :  [10, 1, 1]\n",
      "13 :  [10, 1, 1, 1]\n",
      "14 :  [10, 1, 1, 1, 1]\n",
      "15 :  [10, 5]\n",
      "16 :  [10, 5, 1]\n",
      "17 :  [10, 5, 1, 1]\n",
      "18 :  [10, 5, 1, 1, 1]\n",
      "19 :  [10, 5, 1, 1, 1, 1]\n",
      "20 :  [10, 10]\n",
      "21 :  [10, 10, 1]\n",
      "22 :  [10, 10, 1, 1]\n",
      "23 :  [10, 10, 1, 1, 1]\n",
      "24 :  [10, 10, 1, 1, 1, 1]\n",
      "25 :  [25]\n",
      "26 :  [25, 1]\n",
      "27 :  [25, 1, 1]\n",
      "28 :  [25, 1, 1, 1]\n",
      "29 :  [25, 1, 1, 1, 1]\n",
      "30 :  [25, 5]\n",
      "31 :  [25, 5, 1]\n",
      "32 :  [25, 5, 1, 1]\n",
      "33 :  [25, 5, 1, 1, 1]\n",
      "34 :  [25, 5, 1, 1, 1, 1]\n",
      "35 :  [25, 10]\n",
      "36 :  [25, 10, 1]\n",
      "37 :  [25, 10, 1, 1]\n",
      "38 :  [25, 10, 1, 1, 1]\n",
      "39 :  [25, 10, 1, 1, 1, 1]\n",
      "40 :  [25, 10, 5]\n",
      "41 :  [25, 10, 5, 1]\n",
      "42 :  [25, 10, 5, 1, 1]\n",
      "43 :  [25, 10, 5, 1, 1, 1]\n",
      "44 :  [25, 10, 5, 1, 1, 1, 1]\n",
      "45 :  [25, 10, 10]\n",
      "46 :  [25, 10, 10, 1]\n",
      "47 :  [25, 10, 10, 1, 1]\n",
      "48 :  [25, 10, 10, 1, 1, 1]\n",
      "49 :  [25, 10, 10, 1, 1, 1, 1]\n",
      "50 :  [25, 25]\n",
      "51 :  [25, 25, 1]\n",
      "52 :  [25, 25, 1, 1]\n",
      "53 :  [25, 25, 1, 1, 1]\n",
      "54 :  [25, 25, 1, 1, 1, 1]\n",
      "55 :  [25, 25, 5]\n",
      "56 :  [25, 25, 5, 1]\n",
      "57 :  [25, 25, 5, 1, 1]\n",
      "58 :  [25, 25, 5, 1, 1, 1]\n",
      "59 :  [25, 25, 5, 1, 1, 1, 1]\n",
      "60 :  [25, 25, 10]\n",
      "61 :  [25, 25, 10, 1]\n",
      "62 :  [25, 25, 10, 1, 1]\n",
      "63 :  [25, 25, 10, 1, 1, 1]\n"
     ]
    }
   ],
   "source": [
    "coins = [1, 5, 10, 25]\n",
    "cash = 63\n",
    "getCoins(cash, coins)"
   ]
  },
  {
   "cell_type": "code",
   "execution_count": 32,
   "metadata": {},
   "outputs": [],
   "source": [
    "def getNumberOfWaysCoins(cash, coins):\n",
    "    data = [0] * (cash + 1)\n",
    "    data[0] = 1\n",
    "    list_of_coins = [[]] * (cash + 1)\n",
    "    \n",
    "    for i in range(1, cash+1):\n",
    "        for j in coins:\n",
    "        \n",
    "#     for j in coins:\n",
    "#         for i in range(1, cash+1):\n",
    "             if j <= i:\n",
    "                current_coins = []\n",
    "                # update the value of current likewise\n",
    "                current_coins.append(j)\n",
    "                #print(i, j, current_coins)\n",
    "                current_coins.extend(list_of_coins[i- j])\n",
    "                data[i] += data[i-j]\n",
    "        list_of_coins[i] = current_coins\n",
    "        \n",
    "    for x, y in enumerate(list_of_coins):\n",
    "        print(x, \": \", y)"
   ]
  },
  {
   "cell_type": "code",
   "execution_count": 33,
   "metadata": {},
   "outputs": [
    {
     "name": "stdout",
     "output_type": "stream",
     "text": [
      "0 :  1\n",
      "1 :  1\n",
      "2 :  2\n",
      "3 :  3\n",
      "4 :  5\n",
      "5 :  8\n",
      "6 :  13\n",
      "7 :  21\n"
     ]
    }
   ],
   "source": [
    "cash = 7\n",
    "coins = [1, 2]\n",
    "\n",
    "getNumberOfWaysCoins(cash, coins)"
   ]
  },
  {
   "cell_type": "markdown",
   "metadata": {},
   "source": [
    "### Longest Common Subsequence"
   ]
  },
  {
   "cell_type": "code",
   "execution_count": 111,
   "metadata": {},
   "outputs": [],
   "source": [
    "def lcs(text1, text2, showarray):\n",
    "    data = [[0 for _ in range(len(text1) + 1)] for _ in range(len(text2) + 1)]\n",
    "    sub = ''\n",
    "    for j in range(1, len(text1) + 1):\n",
    "        for i in range(1, len(text2) + 1):\n",
    "\n",
    "            if text2[i-1] == text1[j-1]:\n",
    "                data[i][j] = data[i-1][j-1] + 1\n",
    "            else:\n",
    "                data[i][j] = max(data[i-1][j], data[i][j-1])\n",
    "\n",
    "\n",
    "    rev_t2 = [i for i in text2][::-1]\n",
    "    for i in range(len(data)):\n",
    "        for j in range(len(data[0])):\n",
    "            if j == 0 and i!=0:\n",
    "                data[i][j] = rev_t2.pop()\n",
    "            else:\n",
    "                data[i][j] = str(data[i][j])\n",
    "\n",
    "    data[0] = ['*'] + [i for i in text1]\n",
    "    if showarray:\n",
    "        for d in data:\n",
    "            print(d)\n",
    "    return data[-1][-1]"
   ]
  },
  {
   "cell_type": "code",
   "execution_count": 112,
   "metadata": {},
   "outputs": [
    {
     "name": "stdout",
     "output_type": "stream",
     "text": [
      "5\n"
     ]
    }
   ],
   "source": [
    "print(lcs('abcedajkaanka', 'appleaanst', showarray=False))"
   ]
  },
  {
   "cell_type": "code",
   "execution_count": null,
   "metadata": {},
   "outputs": [],
   "source": []
  }
 ],
 "metadata": {
  "kernelspec": {
   "display_name": "Python 3",
   "language": "python",
   "name": "python3"
  },
  "language_info": {
   "codemirror_mode": {
    "name": "ipython",
    "version": 3
   },
   "file_extension": ".py",
   "mimetype": "text/x-python",
   "name": "python",
   "nbconvert_exporter": "python",
   "pygments_lexer": "ipython3",
   "version": "3.7.6"
  }
 },
 "nbformat": 4,
 "nbformat_minor": 4
}

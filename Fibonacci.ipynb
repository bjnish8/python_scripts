{
 "cells": [
  {
   "cell_type": "markdown",
   "metadata": {},
   "source": [
    "# Fibonacci Basics"
   ]
  },
  {
   "cell_type": "code",
   "execution_count": 2,
   "metadata": {},
   "outputs": [],
   "source": [
    "import time\n",
    "\n",
    "def plainFib(n):    # Time complexity ()\n",
    "    if n==0 or n==1:\n",
    "        return n\n",
    "    return plainFib(n-1) + plainFib(n-2)\n",
    "\n",
    "def memoFib(n, data=None):   # Space complexity: O(n)\n",
    "    if data is None:\n",
    "        data = [None] * (n + 1)\n",
    "        data[0] = 0\n",
    "        data[1] = 1\n",
    "    if data[n] is None:\n",
    "        data[n] = memoFib(n-1, data) + memoFib(n-2, data) # -> memoFib(4, data) + memoFib(3, data)\n",
    "    return data[n]\n",
    "\n",
    "def bottomFib(n):\n",
    "    data = [-1] * (n + 1)\n",
    "    data[0] = 0\n",
    "    data[1] = 1\n",
    "    for i in range(2, n+1):\n",
    "        data[i] = data[i-1] + data[i-2]\n",
    "    return data[n]\n",
    "\n",
    "def walkFib(n):\n",
    "    minus2 = 0\n",
    "    minus1 = 1\n",
    "    for i in range(2, n+1):        \n",
    "        current = minus2 + minus1\n",
    "        minus2 = minus1\n",
    "        minus1 = current\n",
    "    return current"
   ]
  },
  {
   "cell_type": "code",
   "execution_count": 8,
   "metadata": {},
   "outputs": [
    {
     "name": "stdout",
     "output_type": "stream",
     "text": [
      "Plain Took  19.52422571182251\n",
      "Memo Took  8.858981847763062\n",
      "Bottom Took  3.587250232696533\n",
      "Walk Took  1.4544970989227295\n"
     ]
    }
   ],
   "source": [
    "# init = time.time()\n",
    "plainFib(36)\n",
    "print(\"Plain Took \", time.time() - init)\n",
    "init = time.time()\n",
    "for i in range(10000):\n",
    "    memoFib(2020)\n",
    "print(\"Memo Took \", time.time() - init)\n",
    "init = time.time()\n",
    "for i in range(10000):\n",
    "    bottomFib(2020)\n",
    "print(\"Bottom Took \", time.time() - init)\n",
    "init = time.time()\n",
    "for i in range(10000):\n",
    "    walkFib(2020)\n",
    "print(\"Walk Took \", time.time() - init)"
   ]
  },
  {
   "cell_type": "code",
   "execution_count": 8,
   "metadata": {},
   "outputs": [],
   "source": [
    "A = [-1, 2, -3, 4, 5, -6]"
   ]
  },
  {
   "cell_type": "code",
   "execution_count": 9,
   "metadata": {},
   "outputs": [
    {
     "name": "stdout",
     "output_type": "stream",
     "text": [
      "[-1, -2, 6, 24, 120, -720] [-6, -30, -120, 360, 720, -720]\n",
      "720\n"
     ]
    }
   ],
   "source": [
    "B = A[::-1]\n",
    "for i in range(1, len(A)):\n",
    "    A[i] *= A[i - 1] or 1\n",
    "    B[i] *= B[i - 1] or 1\n",
    "print(A, B)\n",
    "print (max(A + B))"
   ]
  },
  {
   "cell_type": "code",
   "execution_count": 15,
   "metadata": {},
   "outputs": [
    {
     "data": {
      "text/plain": [
       "'root.right'"
      ]
     },
     "execution_count": 15,
     "metadata": {},
     "output_type": "execute_result"
    }
   ],
   "source": [
    "(\"root.left\", \"root.right\")[4 < 5]"
   ]
  },
  {
   "cell_type": "code",
   "execution_count": 16,
   "metadata": {},
   "outputs": [
    {
     "data": {
      "text/plain": [
       "'root.right'"
      ]
     },
     "execution_count": 16,
     "metadata": {},
     "output_type": "execute_result"
    }
   ],
   "source": [
    "\"root.left\" if 4 > 5 else 'root.right'"
   ]
  },
  {
   "cell_type": "code",
   "execution_count": null,
   "metadata": {},
   "outputs": [],
   "source": []
  }
 ],
 "metadata": {
  "kernelspec": {
   "display_name": "Python 3",
   "language": "python",
   "name": "python3"
  },
  "language_info": {
   "codemirror_mode": {
    "name": "ipython",
    "version": 3
   },
   "file_extension": ".py",
   "mimetype": "text/x-python",
   "name": "python",
   "nbconvert_exporter": "python",
   "pygments_lexer": "ipython3",
   "version": "3.7.6"
  }
 },
 "nbformat": 4,
 "nbformat_minor": 4
}

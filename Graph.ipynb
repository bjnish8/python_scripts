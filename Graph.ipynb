{
 "cells": [
  {
   "cell_type": "raw",
   "metadata": {},
   "source": [
    "    A -> B\n",
    "    A -> C\n",
    "    B -> C\n",
    "    B -> D\n",
    "    C -> D\n",
    "    D -> C\n",
    "    E -> F\n",
    "    F -> C\n",
    "    "
   ]
  },
  {
   "cell_type": "code",
   "execution_count": 1,
   "metadata": {},
   "outputs": [],
   "source": [
    "items = [('A', 'B'), ('A', 'C'), ('B', 'C'), ('B', 'D'), ('C', 'D'), ('D', 'C'), ('E', 'F'), ('F', 'C')]"
   ]
  },
  {
   "cell_type": "code",
   "execution_count": 5,
   "metadata": {},
   "outputs": [
    {
     "name": "stdout",
     "output_type": "stream",
     "text": [
      "{'A': ['B', 'C'], 'B': ['C', 'D'], 'C': ['D'], 'D': ['C'], 'E': ['F'], 'F': ['C']}\n"
     ]
    }
   ],
   "source": [
    "data = dict()\n",
    "for x,y in items:\n",
    "    if x not in data:\n",
    "        data[x] = [y]\n",
    "    else:\n",
    "        data[x].append(y)\n",
    "print(data)"
   ]
  },
  {
   "cell_type": "code",
   "execution_count": 34,
   "metadata": {},
   "outputs": [],
   "source": [
    "def find_path(graph, start, end, path=[]):\n",
    "    # appends path as expected\n",
    "    path = path + [start]\n",
    "    \n",
    "    # if terminating condition return path\n",
    "    if start == end:\n",
    "        return [path]\n",
    "    \n",
    "    # if cannot find node return nothing\n",
    "    if start not in graph:\n",
    "        return None\n",
    "    paths = []\n",
    "    # for each node in the dictionary that corresponds to a node, loop\n",
    "    for node in graph[start]:\n",
    "        # if node in path, then already traversed\n",
    "        if node not in path:\n",
    "            # recurse now, everything stays the same, but change the start to the nodes its connected to\n",
    "            newpaths = find_path(graph, node, end, path)\n",
    "            for newpath in newpaths:\n",
    "                    paths.append(newpath)\n",
    "            #if newpath: return newpath\n",
    "    return paths"
   ]
  },
  {
   "cell_type": "code",
   "execution_count": 35,
   "metadata": {},
   "outputs": [
    {
     "name": "stdout",
     "output_type": "stream",
     "text": [
      "[['A', 'B', 'C', 'D'], ['A', 'B', 'D'], ['A', 'C', 'D']]\n"
     ]
    }
   ],
   "source": [
    "print(find_path(data, 'A', 'D'))"
   ]
  },
  {
   "cell_type": "code",
   "execution_count": 58,
   "metadata": {},
   "outputs": [],
   "source": [
    "import collections\n",
    "def find_shortest_path(graph, start, end):\n",
    "    # initialize dictionary. Add the start element\n",
    "    dist = {start: [start]}\n",
    "    \n",
    "    # create a queue and add the initial\n",
    "    q = collections.deque(start)\n",
    "    \n",
    "    # while not empty\n",
    "    while len(q):\n",
    "        # get element\n",
    "        at = q.popleft()\n",
    "        \n",
    "        # get its corresponding nodes\n",
    "        for next_ in graph[at]:\n",
    "            # if does not exist already in the dictionary\n",
    "            if next_ not in dist:\n",
    "                # add it to the dictionary\n",
    "                dist[next_] = [dist[at], next_]\n",
    "                # add this thing to the queue to traverse\n",
    "                q.append(next_)\n",
    "    print(dist)\n",
    "    return dist.get(end)"
   ]
  },
  {
   "cell_type": "code",
   "execution_count": 59,
   "metadata": {},
   "outputs": [
    {
     "name": "stdout",
     "output_type": "stream",
     "text": [
      "{'A': ['A'], 'B': [['A'], 'B'], 'C': [['A'], 'C'], 'D': [[['A'], 'B'], 'D']}\n"
     ]
    },
    {
     "data": {
      "text/plain": [
       "[[['A'], 'B'], 'D']"
      ]
     },
     "execution_count": 59,
     "metadata": {},
     "output_type": "execute_result"
    }
   ],
   "source": [
    "find_shortest_path(data, 'A', 'D')"
   ]
  },
  {
   "cell_type": "code",
   "execution_count": null,
   "metadata": {},
   "outputs": [],
   "source": [
    "<class 'list'>\n",
    "<class 'list'>\n",
    "<class 'list'>\n",
    "{'A': ['A'], 'B': ['A', 'B'], 'C': ['A', 'C'], 'D': ['A', 'D']}\n",
    "\n",
    "['A', 'D']"
   ]
  }
 ],
 "metadata": {
  "kernelspec": {
   "display_name": "Python 3",
   "language": "python",
   "name": "python3"
  },
  "language_info": {
   "codemirror_mode": {
    "name": "ipython",
    "version": 3
   },
   "file_extension": ".py",
   "mimetype": "text/x-python",
   "name": "python",
   "nbconvert_exporter": "python",
   "pygments_lexer": "ipython3",
   "version": "3.7.6"
  }
 },
 "nbformat": 4,
 "nbformat_minor": 4
}

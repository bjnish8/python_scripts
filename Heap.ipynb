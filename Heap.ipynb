{
 "cells": [
  {
   "cell_type": "code",
   "execution_count": 6,
   "metadata": {},
   "outputs": [],
   "source": [
    "from heapq import heappush, heappop"
   ]
  },
  {
   "cell_type": "code",
   "execution_count": 31,
   "metadata": {},
   "outputs": [],
   "source": [
    "heap = []\n",
    "data = [(1, 'a'), (3, 'x'), (2, 'b'), (5, 'e'), (4, 'y')]\n",
    "\n",
    "for item in data:\n",
    "    heappush(heap, (lambda x : (x[0] + 10, x[1]))(item))"
   ]
  },
  {
   "cell_type": "code",
   "execution_count": 32,
   "metadata": {},
   "outputs": [
    {
     "name": "stdout",
     "output_type": "stream",
     "text": [
      "[(11, 'a'), (13, 'x'), (12, 'b'), (15, 'e'), (14, 'y')]\n"
     ]
    }
   ],
   "source": [
    "print(heap)"
   ]
  },
  {
   "cell_type": "code",
   "execution_count": 48,
   "metadata": {},
   "outputs": [
    {
     "name": "stdout",
     "output_type": "stream",
     "text": [
      "[2, 0, 4]\n"
     ]
    }
   ],
   "source": [
    "data = [\n",
    "    [2, 3], \n",
    "    [-2, 4],\n",
    "    [1, 2],\n",
    "    [3, 6],\n",
    "    [3, 3]\n",
    "]\n",
    "h = []\n",
    "for index, item in enumerate(data):\n",
    "    heappush(h, ((lambda x:x[0]**2 + x[1]**2)(item), index))\n",
    "    \n",
    "op = []\n",
    "# for i in range(3):\n",
    "#     op.append(heappop(h)[-1])\n",
    "# print(op)\n",
    "\n",
    "print([heappop(h)[-1] for x in range(3)])"
   ]
  },
  {
   "cell_type": "code",
   "execution_count": 36,
   "metadata": {},
   "outputs": [
    {
     "data": {
      "text/plain": [
       "(11, 'a')"
      ]
     },
     "execution_count": 36,
     "metadata": {},
     "output_type": "execute_result"
    }
   ],
   "source": [
    "heappop(heap)"
   ]
  },
  {
   "cell_type": "code",
   "execution_count": 28,
   "metadata": {},
   "outputs": [],
   "source": [
    "test = []\n",
    "for item in [1, 2, 4]:\n",
    "    test.append((lambda x:  x + 1)(item))"
   ]
  },
  {
   "cell_type": "code",
   "execution_count": 29,
   "metadata": {},
   "outputs": [
    {
     "data": {
      "text/plain": [
       "[2, 3, 5]"
      ]
     },
     "execution_count": 29,
     "metadata": {},
     "output_type": "execute_result"
    }
   ],
   "source": [
    "test"
   ]
  },
  {
   "cell_type": "code",
   "execution_count": 44,
   "metadata": {},
   "outputs": [
    {
     "name": "stdout",
     "output_type": "stream",
     "text": [
      "9\n"
     ]
    }
   ],
   "source": [
    "print(3**2)"
   ]
  },
  {
   "cell_type": "markdown",
   "metadata": {},
   "source": [
    "### Self heap implementation"
   ]
  },
  {
   "cell_type": "code",
   "execution_count": null,
   "metadata": {},
   "outputs": [],
   "source": [
    "def max_heapify(A,i):\n",
    "    l = A[:i]\n",
    "    r = A[i+1:]\n",
    "    if l <= A.heap_size and A[l] > A[i]"
   ]
  }
 ],
 "metadata": {
  "kernelspec": {
   "display_name": "Python 3",
   "language": "python",
   "name": "python3"
  },
  "language_info": {
   "codemirror_mode": {
    "name": "ipython",
    "version": 3
   },
   "file_extension": ".py",
   "mimetype": "text/x-python",
   "name": "python",
   "nbconvert_exporter": "python",
   "pygments_lexer": "ipython3",
   "version": "3.7.6"
  }
 },
 "nbformat": 4,
 "nbformat_minor": 4
}

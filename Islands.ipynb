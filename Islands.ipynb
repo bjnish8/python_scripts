{
 "cells": [
  {
   "cell_type": "markdown",
   "metadata": {},
   "source": [
    "The checkNeighbors function tries to identify neighbors and sets their values to 0,\n",
    "so that they are not counted as a separate island."
   ]
  },
  {
   "cell_type": "code",
   "execution_count": 19,
   "metadata": {},
   "outputs": [],
   "source": [
    "array = [['1', '1', '1', '1', '0'],\n",
    "         ['1', '1', '0', '1', '0'],\n",
    "         ['1', '1', '0', '0', '0'],\n",
    "         ['0', '0', '0', '0', '0']]\n",
    "\n",
    "array2 = [['1', '0', '0', '1'],\n",
    "         ['0', '1', '0', '1'],\n",
    "         ['1', '1', '1', '0'],\n",
    "         ['0', '1', '0', '0']]"
   ]
  },
  {
   "cell_type": "code",
   "execution_count": 20,
   "metadata": {},
   "outputs": [],
   "source": [
    "class Islands:\n",
    "    def checkNeighbors(self, array, m, n):\n",
    "#         if (m > -1 and n > -1) and (m < len(array) and n < len(array[0])):\n",
    "        if array[m][n] == \"1\":\n",
    "            array[m][n] = 0\n",
    "            if m-1>-1:\n",
    "                self.checkNeighbors(array, m - 1, n)\n",
    "            if n-1>-1:\n",
    "                self.checkNeighbors(array, m, n - 1)\n",
    "            if m+1<len(array):\n",
    "                self.checkNeighbors(array, m + 1, n)\n",
    "            if n+1<len(array[0]):\n",
    "                self.checkNeighbors(array, m, n + 1)\n",
    "#         else:\n",
    "#             return False\n",
    "    \n",
    "    def findIslands(self, array):\n",
    "        count = 0\n",
    "        for i, arr in enumerate(array):\n",
    "            for j, element in enumerate(arr):\n",
    "                if (element == \"1\"):\n",
    "                    count += 1\n",
    "                    self.checkNeighbors(array, i, j)\n",
    "        return (\"The number of islands is \" + str(count))"
   ]
  },
  {
   "cell_type": "code",
   "execution_count": 21,
   "metadata": {},
   "outputs": [],
   "source": [
    "isl = Islands()"
   ]
  },
  {
   "cell_type": "code",
   "execution_count": 22,
   "metadata": {},
   "outputs": [
    {
     "data": {
      "text/plain": [
       "'The number of islands is 3'"
      ]
     },
     "execution_count": 22,
     "metadata": {},
     "output_type": "execute_result"
    }
   ],
   "source": [
    "isl.findIslands(array2)"
   ]
  },
  {
   "cell_type": "code",
   "execution_count": null,
   "metadata": {},
   "outputs": [],
   "source": []
  }
 ],
 "metadata": {
  "kernelspec": {
   "display_name": "Python 3",
   "language": "python",
   "name": "python3"
  },
  "language_info": {
   "codemirror_mode": {
    "name": "ipython",
    "version": 3
   },
   "file_extension": ".py",
   "mimetype": "text/x-python",
   "name": "python",
   "nbconvert_exporter": "python",
   "pygments_lexer": "ipython3",
   "version": "3.7.6"
  }
 },
 "nbformat": 4,
 "nbformat_minor": 2
}

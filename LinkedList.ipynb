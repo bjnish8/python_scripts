{
 "cells": [
  {
   "cell_type": "code",
   "execution_count": 1,
   "metadata": {},
   "outputs": [],
   "source": [
    "class Node:\n",
    "    def __init__(self, value):\n",
    "        self.value = value\n",
    "        self.nextNode = None\n",
    "    "
   ]
  },
  {
   "cell_type": "code",
   "execution_count": 28,
   "metadata": {},
   "outputs": [],
   "source": [
    "class LinkedList():\n",
    "    def __init__(self, root):\n",
    "        self.root = root\n",
    "        self.length = 1\n",
    "        \n",
    "    def insertNode(self, node):\n",
    "        temp = self.root\n",
    "        while temp.nextNode:\n",
    "            temp = temp.nextNode\n",
    "        temp.nextNode = node\n",
    "        self.length += 1\n",
    "        \n",
    "    def __add__(self, node):\n",
    "        self.insertNode(node)\n",
    "        return self\n",
    "        \n",
    "    def __len__(self):\n",
    "        return self.length\n",
    "    \n",
    "    def removeNodeAtIndex(self, index):\n",
    "        temp = self.root\n",
    "        while index > 0:\n",
    "            try:\n",
    "                previous = temp\n",
    "                temp = temp.nextNode\n",
    "                index -= 1\n",
    "            except AttributeError as e:\n",
    "                print(\"Index out of range\")\n",
    "                return\n",
    "        if temp == self.root:\n",
    "            self.root = temp.nextNode\n",
    "        else:\n",
    "            previous.nextNode = temp.nextNode\n",
    "        self.length -= 1\n",
    "            \n",
    "    def printList(self):\n",
    "        temp = self.root\n",
    "        while temp:\n",
    "            print(temp.value, end=\" -> \")\n",
    "            temp = temp.nextNode\n",
    "        print(None)\n",
    "        \n",
    "    def reverse(self):\n",
    "        afterM = None\n",
    "        current = self.root\n",
    "        while current:\n",
    "            afterCurrent = current.next\n",
    "            current.next = afterM\n",
    "            afterM = current\n",
    "            current = afterCurrent\n",
    "        \n",
    "                \n",
    "            "
   ]
  },
  {
   "cell_type": "code",
   "execution_count": 29,
   "metadata": {},
   "outputs": [
    {
     "name": "stdout",
     "output_type": "stream",
     "text": [
      "11\n"
     ]
    }
   ],
   "source": [
    "ll = LinkedList(Node(4))\n",
    "ll = ll + Node(8) \n",
    "ll.insertNode(Node(16))\n",
    "for i in range(10):\n",
    "    ll.insertNode(Node(i))\n",
    "ll.removeNodeAtIndex(0)\n",
    "ll.removeNodeAtIndex(10)\n",
    "print(len(ll))"
   ]
  },
  {
   "cell_type": "code",
   "execution_count": 30,
   "metadata": {},
   "outputs": [
    {
     "name": "stdout",
     "output_type": "stream",
     "text": [
      "8 -> 16 -> 0 -> 1 -> 2 -> 3 -> 4 -> 5 -> 6 -> 7 -> 9 -> None\n"
     ]
    }
   ],
   "source": [
    "ll.printList()"
   ]
  },
  {
   "cell_type": "code",
   "execution_count": 31,
   "metadata": {},
   "outputs": [
    {
     "name": "stdout",
     "output_type": "stream",
     "text": [
      "8\n"
     ]
    }
   ],
   "source": [
    "ll.reverse()"
   ]
  },
  {
   "cell_type": "code",
   "execution_count": 32,
   "metadata": {},
   "outputs": [
    {
     "name": "stdout",
     "output_type": "stream",
     "text": [
      "8 -> 0 -> 1 -> 2 -> 3 -> 4 -> 5 -> 6 -> 7 -> 9 -> None\n"
     ]
    }
   ],
   "source": [
    "ll.printList()"
   ]
  },
  {
   "cell_type": "code",
   "execution_count": 1,
   "metadata": {},
   "outputs": [
    {
     "ename": "ModuleNotFoundError",
     "evalue": "No module named 'binarytree'",
     "output_type": "error",
     "traceback": [
      "\u001b[1;31m---------------------------------------------------------------------------\u001b[0m",
      "\u001b[1;31mModuleNotFoundError\u001b[0m                       Traceback (most recent call last)",
      "\u001b[1;32m<ipython-input-1-868dffb1731f>\u001b[0m in \u001b[0;36m<module>\u001b[1;34m\u001b[0m\n\u001b[1;32m----> 1\u001b[1;33m \u001b[1;32mfrom\u001b[0m \u001b[0mbinarytree\u001b[0m \u001b[1;32mimport\u001b[0m \u001b[0mtree\u001b[0m \u001b[1;32mas\u001b[0m \u001b[0mt\u001b[0m\u001b[1;33m\u001b[0m\u001b[1;33m\u001b[0m\u001b[0m\n\u001b[0m",
      "\u001b[1;31mModuleNotFoundError\u001b[0m: No module named 'binarytree'"
     ]
    }
   ],
   "source": [
    "from binarytree import tree as t"
   ]
  },
  {
   "cell_type": "code",
   "execution_count": 48,
   "metadata": {},
   "outputs": [],
   "source": [
    "def printree(tree):\n",
    "    null = None\n",
    "    tree = [18,2,22, null,null,null,63,null,84,null,null]\n",
    "    j = 1\n",
    "    while tree:\n",
    "        op = \"\"\n",
    "        for i in range(j):\n",
    "            try:\n",
    "                op += str(tree[i]) + \" \"\n",
    "            except:\n",
    "                pass\n",
    "        print(op)\n",
    "        tree = tree[j:]\n",
    "        j *= 2"
   ]
  },
  {
   "cell_type": "code",
   "execution_count": 49,
   "metadata": {},
   "outputs": [
    {
     "name": "stdout",
     "output_type": "stream",
     "text": [
      "18 \n",
      "2 22 \n",
      "None None None 63 \n",
      "None 84 None None \n"
     ]
    }
   ],
   "source": [
    "printree([])"
   ]
  },
  {
   "cell_type": "code",
   "execution_count": 87,
   "metadata": {},
   "outputs": [],
   "source": [
    "turn = False"
   ]
  },
  {
   "cell_type": "code",
   "execution_count": 90,
   "metadata": {},
   "outputs": [
    {
     "name": "stdout",
     "output_type": "stream",
     "text": [
      "True\n"
     ]
    }
   ],
   "source": [
    "turn = turn ^ True\n",
    "print(turn)"
   ]
  },
  {
   "cell_type": "code",
   "execution_count": 68,
   "metadata": {},
   "outputs": [
    {
     "data": {
      "text/plain": [
       "True"
      ]
     },
     "execution_count": 68,
     "metadata": {},
     "output_type": "execute_result"
    }
   ],
   "source": [
    "True ^ False"
   ]
  },
  {
   "cell_type": "code",
   "execution_count": 91,
   "metadata": {},
   "outputs": [
    {
     "name": "stdout",
     "output_type": "stream",
     "text": [
      "not a\n"
     ]
    }
   ],
   "source": [
    "a = 0\n",
    "if not a:\n",
    "    print(\"not a\")"
   ]
  },
  {
   "cell_type": "code",
   "execution_count": 96,
   "metadata": {},
   "outputs": [
    {
     "name": "stdout",
     "output_type": "stream",
     "text": [
      "1\n"
     ]
    }
   ],
   "source": [
    "print (2 ^ 2 ^ 1)"
   ]
  },
  {
   "cell_type": "code",
   "execution_count": null,
   "metadata": {},
   "outputs": [],
   "source": []
  }
 ],
 "metadata": {
  "kernelspec": {
   "display_name": "Python 3",
   "language": "python",
   "name": "python3"
  },
  "language_info": {
   "codemirror_mode": {
    "name": "ipython",
    "version": 3
   },
   "file_extension": ".py",
   "mimetype": "text/x-python",
   "name": "python",
   "nbconvert_exporter": "python",
   "pygments_lexer": "ipython3",
   "version": "3.7.6"
  }
 },
 "nbformat": 4,
 "nbformat_minor": 4
}

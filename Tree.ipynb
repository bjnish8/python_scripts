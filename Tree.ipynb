{
 "cells": [
  {
   "cell_type": "code",
   "execution_count": 2,
   "metadata": {},
   "outputs": [
    {
     "ename": "ModuleNotFoundError",
     "evalue": "No module named 'binarytree'",
     "output_type": "error",
     "traceback": [
      "\u001b[1;31m---------------------------------------------------------------------------\u001b[0m",
      "\u001b[1;31mModuleNotFoundError\u001b[0m                       Traceback (most recent call last)",
      "\u001b[1;32m<ipython-input-2-b849d296fdfa>\u001b[0m in \u001b[0;36m<module>\u001b[1;34m\u001b[0m\n\u001b[1;32m----> 1\u001b[1;33m \u001b[1;32mimport\u001b[0m \u001b[0mbinarytree\u001b[0m\u001b[1;33m\u001b[0m\u001b[1;33m\u001b[0m\u001b[0m\n\u001b[0m",
      "\u001b[1;31mModuleNotFoundError\u001b[0m: No module named 'binarytree'"
     ]
    }
   ],
   "source": [
    "import binarytree"
   ]
  },
  {
   "cell_type": "code",
   "execution_count": 3,
   "metadata": {},
   "outputs": [],
   "source": [
    "class TreeNode():\n",
    "    def __init__(self, val, left=None, right=None):\n",
    "        self.val = val\n",
    "        self.left = left\n",
    "        self.right = right"
   ]
  },
  {
   "cell_type": "code",
   "execution_count": 4,
   "metadata": {},
   "outputs": [],
   "source": [
    "import collections\n",
    "class Tree():\n",
    "    def __init__(self, node):\n",
    "        self.root = node\n",
    "    \n",
    "    def insert(self, node, temp=None):\n",
    "        if not temp:\n",
    "            temp = self.root\n",
    "        if temp.val == node.val:\n",
    "            print(\"Duplicate entry!\")\n",
    "            return\n",
    "        elif temp.val > node.val:\n",
    "            if temp.left:\n",
    "                self.insert(node, temp.left)\n",
    "            else:\n",
    "                temp.left=node\n",
    "        else:\n",
    "            if temp.right:\n",
    "                self.insert(node, temp.right)\n",
    "            else:\n",
    "                temp.right=node  \n",
    "    \n",
    "    def inorder(self, temp=None):\n",
    "        if not temp:\n",
    "            temp = self.root\n",
    "        if temp.left:\n",
    "            self.inorder(temp.left)\n",
    "        print(temp.val)\n",
    "        if temp.right:\n",
    "            self.inorder(temp.right)\n",
    "            \n",
    "    def display(self, temp=None):\n",
    "        if not temp:\n",
    "            temp = self.root\n",
    "        q = collections.deque()\n",
    "        q.append(temp)\n",
    "        while q:\n",
    "            size = len(q)\n",
    "            final = list()\n",
    "            for i in range(size):\n",
    "                current = q.popleft()\n",
    "                final.append(current.val)\n",
    "                if current.left:\n",
    "                    q.append(current.left)\n",
    "                if current.right:\n",
    "                    q.append(current.right)\n",
    "            print(final)\n"
   ]
  },
  {
   "cell_type": "code",
   "execution_count": 5,
   "metadata": {},
   "outputs": [],
   "source": [
    "t1 = TreeNode(20)"
   ]
  },
  {
   "cell_type": "code",
   "execution_count": 6,
   "metadata": {},
   "outputs": [],
   "source": [
    "tree = Tree(t1)"
   ]
  },
  {
   "cell_type": "code",
   "execution_count": 7,
   "metadata": {},
   "outputs": [],
   "source": [
    "tree.insert(TreeNode(12))\n",
    "tree.insert(TreeNode(17))\n",
    "tree.insert(TreeNode(25))"
   ]
  },
  {
   "cell_type": "code",
   "execution_count": 8,
   "metadata": {},
   "outputs": [
    {
     "name": "stdout",
     "output_type": "stream",
     "text": [
      "12\n",
      "17\n",
      "20\n",
      "25\n"
     ]
    }
   ],
   "source": [
    "tree.inorder()"
   ]
  },
  {
   "cell_type": "code",
   "execution_count": 9,
   "metadata": {},
   "outputs": [
    {
     "name": "stdout",
     "output_type": "stream",
     "text": [
      "[20]\n",
      "[12, 25]\n",
      "[17]\n"
     ]
    }
   ],
   "source": [
    "tree.display()"
   ]
  },
  {
   "cell_type": "markdown",
   "metadata": {},
   "source": [
    "# Iterative tree traversal"
   ]
  },
  {
   "cell_type": "code",
   "execution_count": 10,
   "metadata": {},
   "outputs": [],
   "source": [
    "def iterative_inorder():\n",
    "    stack = list()\n",
    "    if root:\n",
    "        current = root\n",
    "    while current or stack:\n",
    "        if current:\n",
    "            stack.append(current)\n",
    "            current = current.left\n",
    "        elif stack:\n",
    "            chosen = stack.pop()\n",
    "            print(chosen.val)\n",
    "            current = chosen.right"
   ]
  },
  {
   "cell_type": "code",
   "execution_count": null,
   "metadata": {},
   "outputs": [],
   "source": []
  }
 ],
 "metadata": {
  "kernelspec": {
   "display_name": "Python 3",
   "language": "python",
   "name": "python3"
  },
  "language_info": {
   "codemirror_mode": {
    "name": "ipython",
    "version": 3
   },
   "file_extension": ".py",
   "mimetype": "text/x-python",
   "name": "python",
   "nbconvert_exporter": "python",
   "pygments_lexer": "ipython3",
   "version": "3.6.10"
  }
 },
 "nbformat": 4,
 "nbformat_minor": 4
}

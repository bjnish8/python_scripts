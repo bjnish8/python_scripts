{
 "cells": [
  {
   "cell_type": "code",
   "execution_count": null,
   "metadata": {},
   "outputs": [],
   "source": [
    "words = ['PAN', 'BAN', 'TAN', 'BAT', 'POT', 'BIN', 'TIN', 'BIT']"
   ]
  },
  {
   "cell_type": "code",
   "execution_count": null,
   "metadata": {},
   "outputs": [],
   "source": [
    "import collections, itertools\n",
    "data = collections.defaultdict(list)\n",
    "graph = collections.defaultdict(set)"
   ]
  },
  {
   "cell_type": "code",
   "execution_count": null,
   "metadata": {},
   "outputs": [],
   "source": [
    "for word in words:\n",
    "    for i in range(len(word)):\n",
    "        data[word[:i]+ '_' + word[i+1:]].append(word)"
   ]
  },
  {
   "cell_type": "code",
   "execution_count": null,
   "metadata": {},
   "outputs": [],
   "source": [
    "for bucket, mutual_neighbors in data.items():\n",
    "    for word1, word2 in itertools.product(mutual_neighbors, repeat=2):\n",
    "        if word1 != word2:\n",
    "            graph[word1].add(word2)\n",
    "            graph[word2].add(word1)\n",
    "print(graph)"
   ]
  },
  {
   "cell_type": "code",
   "execution_count": null,
   "metadata": {},
   "outputs": [],
   "source": [
    "for bucket, mutual in data.items():\n",
    "    for word1 in mutual:\n",
    "        for word2 in mutual:\n",
    "            if word1 != word2:\n",
    "                graph[word1].add(word2)\n",
    "                graph[word2].add(word1)\n",
    "print(graph)"
   ]
  },
  {
   "cell_type": "code",
   "execution_count": null,
   "metadata": {},
   "outputs": [],
   "source": [
    "print(graph, '\\n\\n\\n\\n', data)"
   ]
  },
  {
   "cell_type": "code",
   "execution_count": null,
   "metadata": {},
   "outputs": [],
   "source": [
    "q = collections.deque()"
   ]
  },
  {
   "cell_type": "code",
   "execution_count": 17,
   "metadata": {},
   "outputs": [
    {
     "name": "stdout",
     "output_type": "stream",
     "text": [
      "queue deque(['hit']) at level 0\n",
      "Appending hot because hit : {'hot'}\n",
      "queue deque(['hot']) at level 1\n",
      "Appending dot because hot : {'dot', 'lot', 'hit'}\n",
      "Appending lot because hot : {'dot', 'lot', 'hit'}\n",
      "queue deque(['dot', 'lot']) at level 2\n",
      "Appending dog because dot : {'dog', 'hot', 'lot'}\n",
      "Appending lot because dot : {'dog', 'hot', 'lot'}\n",
      "Appending log because lot : {'dot', 'hot', 'log'}\n",
      "queue deque(['dog', 'lot', 'log']) at level 3\n",
      "Appending cog because dog : {'cog', 'dot', 'log'}\n",
      "Appending log because dog : {'cog', 'dot', 'log'}\n",
      "Appending log because lot : {'dot', 'hot', 'log'}\n",
      "Appending cog because log : {'dog', 'lot', 'cog'}\n",
      "queue deque(['cog', 'log', 'log', 'cog']) at level 4\n",
      "Appending cog because log : {'dog', 'lot', 'cog'}\n",
      "Appending cog because log : {'dog', 'lot', 'cog'}\n",
      "4 huzzah!\n",
      "4 huzzah!\n"
     ]
    }
   ],
   "source": [
    "import collections\n",
    "beginWord = \"hit\"\n",
    "endWord = \"cog\"\n",
    "wordList = [\"hot\",\"dot\",\"dog\",\"lot\",\"log\",\"cog\"]\n",
    "\n",
    "data = collections.defaultdict(list)\n",
    "graph = collections.defaultdict(set)\n",
    "\n",
    "for word in wordList + [beginWord]:\n",
    "    for i in range(len(word)):\n",
    "        data[word[:i] + '*' + word[i+1:]].append(word)\n",
    "\n",
    "for index, related in data.items():\n",
    "    for word1 in related:\n",
    "        for word2 in related:\n",
    "            if word1 != word2:\n",
    "                graph[word1].add(word2)\n",
    "                graph[word2].add(word1)\n",
    "\n",
    "q = collections.deque()\n",
    "visited = collections.defaultdict(set)\n",
    "\n",
    "visited[(0, beginWord)] = {}\n",
    "vis = [set() for _ in wordList]\n",
    "v = set()\n",
    "level = 0        \n",
    "q.append(beginWord)\n",
    "going = True\n",
    "while q and going:\n",
    "    print(\"queue\", q, \"at level\", level)\n",
    "    size = len(q)\n",
    "    #chosen = q.popleft()\n",
    "    for i in range(size):\n",
    "        for xx in graph[q[i]]:\n",
    "            if xx not in v:#visited[level, q[i]]:\n",
    "                v.add(q[i])\n",
    "                visited[level+1, xx].add(q[i])\n",
    "                visited[level + 1, xx].update(visited[level, q[i]])\n",
    "                print(\"Appending\", xx, \"because\", q[i], \":\", graph[q[i]])\n",
    "                q.append(xx)\n",
    "    while size > 0:\n",
    "        if q.popleft() == endWord:\n",
    "            print(level, \"huzzah!\")\n",
    "            going = False\n",
    "        size -= 1\n",
    "    level += 1\n",
    "    #print(\"visited\", visited)\n"
   ]
  },
  {
   "cell_type": "code",
   "execution_count": null,
   "metadata": {},
   "outputs": [],
   "source": []
  }
 ],
 "metadata": {
  "kernelspec": {
   "display_name": "Python 3",
   "language": "python",
   "name": "python3"
  },
  "language_info": {
   "codemirror_mode": {
    "name": "ipython",
    "version": 3
   },
   "file_extension": ".py",
   "mimetype": "text/x-python",
   "name": "python",
   "nbconvert_exporter": "python",
   "pygments_lexer": "ipython3",
   "version": "3.7.6"
  }
 },
 "nbformat": 4,
 "nbformat_minor": 4
}

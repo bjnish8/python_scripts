{
 "cells": [
  {
   "cell_type": "markdown",
   "metadata": {},
   "source": [
    "# Permutations"
   ]
  },
  {
   "cell_type": "code",
   "execution_count": 2,
   "metadata": {},
   "outputs": [],
   "source": [
    "class Permutations:\n",
    "    def permute(self, array):\n",
    "        return self.permuteHelper(array, [])\n",
    "        \n",
    "    # repeat bool signifies if repetition should be used or not\n",
    "    def permuteHelper(self, nums, final, repeat=True, chosen=[]):\n",
    "        # nums=[] means all elements have been tried out\n",
    "        if not nums:\n",
    "            final.append(chosen)\n",
    "        else:\n",
    "            for i in range(len(nums)):\n",
    "                # skip the element if it was involved previously in a permutation\n",
    "                if not repeat and i > 0 and nums[i] == nums[i-1]:\n",
    "                    continue\n",
    "                #CHOOSE\n",
    "                current = nums[i]\n",
    "                chosen.append(current)\n",
    "                nums = nums[:i] + nums[i+1:]\n",
    "                \n",
    "                #EXPLORE\n",
    "                self.permuteHelper(nums, final, repeat, chosen[:])\n",
    "                \n",
    "                #UNCHOOSE\n",
    "                nums = nums[:i] + [current] + nums[i:]\n",
    "                chosen.pop()\n",
    "        return final\n",
    "    \n",
    "    def permuteNoRepeat(self, array):\n",
    "        return self.permuteHelper(sorted(array), [], False)\n",
    "    \n",
    "[2, 2, 3]\n",
    "        \n",
    "        "
   ]
  },
  {
   "cell_type": "code",
   "execution_count": 4,
   "metadata": {},
   "outputs": [
    {
     "name": "stdout",
     "output_type": "stream",
     "text": [
      "Basic case: [[1, 2, 3], [1, 3, 2], [2, 1, 3], [2, 3, 1], [3, 1, 2], [3, 2, 1]]\n",
      "Repeated: [[3, 3, 0, 3], [3, 3, 3, 0], [3, 0, 3, 3], [3, 0, 3, 3], [3, 3, 3, 0], [3, 3, 0, 3], [3, 3, 0, 3], [3, 3, 3, 0], [3, 0, 3, 3], [3, 0, 3, 3], [3, 3, 3, 0], [3, 3, 0, 3], [0, 3, 3, 3], [0, 3, 3, 3], [0, 3, 3, 3], [0, 3, 3, 3], [0, 3, 3, 3], [0, 3, 3, 3], [3, 3, 3, 0], [3, 3, 0, 3], [3, 3, 3, 0], [3, 3, 0, 3], [3, 0, 3, 3], [3, 0, 3, 3]]\n",
      "No repetitions: [[0, 3, 3, 3], [3, 0, 3, 3], [3, 3, 0, 3], [3, 3, 3, 0]]\n"
     ]
    }
   ],
   "source": [
    "p = Permutations()\n",
    "op = p.permute([1, 2, 3])\n",
    "print(\"Basic case:\", op)\n",
    "op2 = p.permute([3, 3, 0, 3])\n",
    "print(\"Repeated:\", op2)\n",
    "op3 = p.permuteNoRepeat([3, 3, 0, 3])\n",
    "print(\"No repetitions:\", op3)"
   ]
  },
  {
   "cell_type": "markdown",
   "metadata": {},
   "source": [
    "# Combinations"
   ]
  },
  {
   "cell_type": "code",
   "execution_count": 3,
   "metadata": {},
   "outputs": [],
   "source": [
    "class Combinations():\n",
    "    def combine(self, array, k):\n",
    "        return self.combineHelper(array, k, [])\n",
    "    \n",
    "    def subsets(self, array):\n",
    "        return self.getSubsets(array, [])\n",
    "    \n",
    "    def getSubsets(self, nums, final, chosen=[], start= 0):\n",
    "        final.append(chosen)\n",
    "        while nums:\n",
    "            chosen.append(nums[0])\n",
    "            nums = nums[1:]\n",
    "            self.getSubsets(nums, final, chosen[:], start)\n",
    "            chosen.pop()\n",
    "#         for i in range(start, len(nums)):\n",
    "#             chosen.append(nums[i])\n",
    "#             self.getSubsets(nums, final, chosen[:], i+1)\n",
    "#             chosen.pop()\n",
    "        return final\n",
    "    \n",
    "    def combineHelper(self, nums, count, final, start=0, chosen=[]):\n",
    "        if count == 0:\n",
    "            final.append(chosen)\n",
    "        else:\n",
    "            while nums:\n",
    "                chosen.append(nums[0])\n",
    "                \n",
    "                # Different nums variable is created at each iteration\n",
    "                nums = nums[1:]\n",
    "\n",
    "                # start variable not needed here\n",
    "                self.combineHelper(nums, count-1, final, start, chosen[:])\n",
    "                chosen.pop()\n",
    "                \n",
    "                \"\"\"\n",
    "                SAME MAY BE ACCOMPLISHED BY:\n",
    "                while nums:\n",
    "                    chosen.append(nums.pop())\n",
    "                    # Note that passing a deep copy of nums (nums[:]) is absolutely essential\n",
    "                    self.combineHelper(nums[:], count - 1, start, chosen[:])\n",
    "                    chosen.pop()\n",
    "                \n",
    "                USING A FOR LOOP TO PERFORM THE SAME TASK \n",
    "\n",
    "                for i in range(start, len(nums)):\n",
    "                    chosen.append(nums[i])\n",
    "                    self.combineHelper(nums, count-1, final, i+1, chosen[:])\n",
    "                    chosen.pop()\n",
    "                \"\"\"\n",
    "\n",
    "        return final\n",
    "        "
   ]
  },
  {
   "cell_type": "code",
   "execution_count": 4,
   "metadata": {},
   "outputs": [
    {
     "name": "stdout",
     "output_type": "stream",
     "text": [
      "Subsets: [[], [1], [1, 2], [1, 2, 3], [1, 3], [2], [2, 3], [3]]\n",
      "Combinations: [[1, 2], [1, 3], [2, 3]]\n"
     ]
    }
   ],
   "source": [
    "c = Combinations()\n",
    "ss = c.subsets([1, 2, 3])\n",
    "print(\"Subsets:\", ss)\n",
    "co = c.combine([1, 2, 3], 2)\n",
    "print(\"Combinations:\", co)"
   ]
  },
  {
   "cell_type": "markdown",
   "metadata": {},
   "source": [
    "# Combination Sum"
   ]
  },
  {
   "cell_type": "code",
   "execution_count": 5,
   "metadata": {},
   "outputs": [],
   "source": [
    "class CombinationSum():\n",
    "    def Sum(self, array, target):\n",
    "        return self.getSum(array, target, [])\n",
    "    \n",
    "    def SumNoRepeat(self, array, target):\n",
    "        return self.getSum(array, target, [], False)\n",
    "    \n",
    "    def getSum(self, nums, target, final, repeat=True, chosen=[], start=0):\n",
    "        if target == 0:\n",
    "            final.append(chosen)\n",
    "        for i in range(start, len(nums)):\n",
    "            # Note that the following is absolutely critical so that the loop does not go forever\n",
    "            # and stops when we overshoot the target\n",
    "            if target-nums[i] < 0:\n",
    "                continue\n",
    "                \n",
    "            # check for repeat flag\n",
    "            if not repeat:\n",
    "                if i > start and nums[i]==nums[i-1]:\n",
    "                    continue\n",
    "                \n",
    "            # otherwise business as usual\n",
    "            chosen.append(nums[i])\n",
    "            \n",
    "            # we do not increase the index of start, as we choose to reuse a particular element\n",
    "            # if repeated\n",
    "            index = i\n",
    "            \n",
    "            # if not repeated, then increase the index, move on to the next element and check\n",
    "            # if equal to previous using ('check for repeat flag')\n",
    "            if not repeat:\n",
    "                index += 1\n",
    "            self.getSum(nums, target-nums[i], final, repeat, chosen[:], index)\n",
    "            chosen.pop()\n",
    "        return final"
   ]
  },
  {
   "cell_type": "code",
   "execution_count": 6,
   "metadata": {},
   "outputs": [
    {
     "name": "stdout",
     "output_type": "stream",
     "text": [
      "Repeated values: [[1, 1, 1, 1], [1, 1, 2], [1, 3], [2, 2], [4]]\n",
      "Non-repeated values: [[1, 3], [4]]\n"
     ]
    }
   ],
   "source": [
    "cs = CombinationSum()\n",
    "r = cs.Sum([1, 2, 3, 4], 4)\n",
    "print(\"Repeated values:\", r)\n",
    "nr = cs.SumNoRepeat([1, 2, 3, 4], 4)\n",
    "print(\"Non-repeated values:\", nr)\n"
   ]
  },
  {
   "cell_type": "markdown",
   "metadata": {},
   "source": [
    "# Parenthesis"
   ]
  },
  {
   "cell_type": "code",
   "execution_count": 7,
   "metadata": {},
   "outputs": [],
   "source": [
    "def generateParenthesis(n):\n",
    "    return gpHelper(n, n, n, [])\n",
    "\n",
    "def gpHelper(count, opened, closed, final, chosen=''):\n",
    "    if len(chosen) == 2*count:\n",
    "        final.append(chosen)\n",
    "    if opened > 0:\n",
    "        # why this does not work??\n",
    "        # chosen = chosen + '('\n",
    "        # ***** temp = chose + '('        <--- This works though.\n",
    "        # gpHelper(count, opened-1, closed, final, chosen)\n",
    "        gpHelper(count, opened-1, closed, final, chosen + '(')\n",
    "    if closed > 0 and closed > opened:\n",
    "        gpHelper(count, opened, closed-1, final, chosen + ')')\n",
    "    return final"
   ]
  },
  {
   "cell_type": "code",
   "execution_count": 8,
   "metadata": {},
   "outputs": [
    {
     "name": "stdout",
     "output_type": "stream",
     "text": [
      "['((()))', '(()())', '(())()', '()(())', '()()()']\n"
     ]
    }
   ],
   "source": [
    "par = generateParenthesis(3)\n",
    "print(par)"
   ]
  },
  {
   "cell_type": "markdown",
   "metadata": {},
   "source": [
    "# Sudoku"
   ]
  },
  {
   "cell_type": "code",
   "execution_count": 9,
   "metadata": {},
   "outputs": [],
   "source": [
    "class Sudoku():\n",
    "    def solveSudoku(self, sudoku):\n",
    "        self.solver(sudoku)\n",
    "\n",
    "    def solver(self, sudoku, lastRow=0):\n",
    "        global count\n",
    "        for i in range(lastRow, len(sudoku)):\n",
    "            for j in range(len(sudoku[i])):\n",
    "                count += 1\n",
    "                if sudoku[i][j] == '.':\n",
    "                    for s in '123456789':\n",
    "                        if self.isValid(i, j, s, sudoku):\n",
    "                            sudoku[i][j] = s\n",
    "                            if self.solver(sudoku, i):\n",
    "                                return True\n",
    "                            # else\n",
    "                            sudoku[i][j] = '.'\n",
    "                    return False\n",
    "        return True #solved\n",
    "\n",
    "\n",
    "    def isValid(self, row, col, char, sudoku):\n",
    "        rowBox = 3*(row//3)\n",
    "        colBox = 3*(col//3)\n",
    "        for i in range(len(sudoku)):\n",
    "            if sudoku[rowBox + i//3][colBox + i%3] == char:\n",
    "                return False\n",
    "            if sudoku[i][col] == char:\n",
    "                return False\n",
    "            if sudoku[row][i] == char:\n",
    "                return False\n",
    "        return True"
   ]
  },
  {
   "cell_type": "code",
   "execution_count": 10,
   "metadata": {},
   "outputs": [
    {
     "name": "stdout",
     "output_type": "stream",
     "text": [
      "took 0.2891073226928711 ms\n",
      "28531\n",
      "Solved: [['5', '3', '4', '6', '7', '8', '9', '1', '2'], ['6', '7', '2', '1', '9', '5', '3', '4', '8'], ['1', '9', '8', '3', '4', '2', '5', '6', '7'], ['8', '5', '9', '7', '6', '1', '4', '2', '3'], ['4', '2', '6', '8', '5', '3', '7', '9', '1'], ['7', '1', '3', '9', '2', '4', '8', '5', '6'], ['9', '6', '1', '5', '3', '7', '2', '8', '4'], ['2', '8', '7', '4', '1', '9', '6', '3', '5'], ['3', '4', '5', '2', '8', '6', '1', '7', '9']]\n"
     ]
    }
   ],
   "source": [
    "import time\n",
    "count = 0\n",
    "puzzle = [['5', '3', '.', '.', '7', '.', '.', '.', '.'],\n",
    "          ['6', '.', '.', '1', '9', '5', '.', '.', '.'],\n",
    "          ['.', '9', '8', '.', '.', '.', '.', '6', '.'],\n",
    "          ['8', '.', '.', '.', '6', '.', '.', '.', '3'],\n",
    "          ['4', '.', '.', '8', '.', '3', '.', '.', '1'],\n",
    "          ['7', '.', '.', '.', '2', '.', '.', '.', '6'],\n",
    "          ['.', '6', '.', '.', '.', '.', '2', '8', '.'],\n",
    "          ['.', '.', '.', '4', '1', '9', '.', '.', '5'],\n",
    "          ['.', '.', '.', '.', '8', '.', '.', '7', '9']]\n",
    "\n",
    "init = time.time()\n",
    "sdk = Sudoku()\n",
    "solved = sdk.solveSudoku(puzzle)\n",
    "print(\"took\", time.time() - init, \"ms\")\n",
    "print(count)\n",
    "print(\"Solved:\", puzzle)"
   ]
  },
  {
   "cell_type": "code",
   "execution_count": 11,
   "metadata": {},
   "outputs": [
    {
     "name": "stdout",
     "output_type": "stream",
     "text": [
      "['f', 'l', 'o', 'w', 'e', 'r']\n",
      "['f', 'l', 'o', 'w']\n",
      "['f', 'l', 'i', 'g', 'h', 't']\n"
     ]
    }
   ],
   "source": [
    "a = ['flower', 'flow', 'flight']\n",
    "ax = list(map(lambda x:[char for char in x], a))\n",
    "for i in ax:\n",
    "    print(i)\n",
    "if []:\n",
    "    print(\"True\")"
   ]
  },
  {
   "cell_type": "code",
   "execution_count": 2,
   "metadata": {},
   "outputs": [
    {
     "name": "stdout",
     "output_type": "stream",
     "text": [
      "1\n",
      "1\n",
      "1\n",
      "1\n",
      "1\n",
      "1\n",
      "1\n",
      "1\n",
      "1\n",
      "1\n"
     ]
    }
   ],
   "source": [
    "for i in range(10):\n",
    "    i = 1\n",
    "    print(i)"
   ]
  },
  {
   "cell_type": "code",
   "execution_count": 2,
   "metadata": {},
   "outputs": [
    {
     "data": {
      "text/plain": [
       "[[False, False, False], [False, False, False], [False, False, False]]"
      ]
     },
     "execution_count": 2,
     "metadata": {},
     "output_type": "execute_result"
    }
   ],
   "source": [
    "[[False for i in range(3)] for j in range(3)]"
   ]
  },
  {
   "cell_type": "code",
   "execution_count": 3,
   "metadata": {},
   "outputs": [
    {
     "data": {
      "text/plain": [
       "[[False, False, False], [False, False, False], [False, False, False]]"
      ]
     },
     "execution_count": 3,
     "metadata": {},
     "output_type": "execute_result"
    }
   ],
   "source": [
    "[[False] * 3] * 3"
   ]
  },
  {
   "cell_type": "code",
   "execution_count": null,
   "metadata": {},
   "outputs": [],
   "source": []
  }
 ],
 "metadata": {
  "kernelspec": {
   "display_name": "Python 3",
   "language": "python",
   "name": "python3"
  },
  "language_info": {
   "codemirror_mode": {
    "name": "ipython",
    "version": 3
   },
   "file_extension": ".py",
   "mimetype": "text/x-python",
   "name": "python",
   "nbconvert_exporter": "python",
   "pygments_lexer": "ipython3",
   "version": "3.7.6"
  }
 },
 "nbformat": 4,
 "nbformat_minor": 4
}
